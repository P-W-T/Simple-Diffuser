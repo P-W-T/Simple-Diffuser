{
 "cells": [
  {
   "cell_type": "markdown",
   "id": "9878740e",
   "metadata": {},
   "source": [
    "# Classifier for scoring"
   ]
  },
  {
   "cell_type": "markdown",
   "id": "6524696f",
   "metadata": {},
   "source": [
    "## Inputs"
   ]
  },
  {
   "cell_type": "code",
   "execution_count": 1,
   "id": "f72f99d0",
   "metadata": {},
   "outputs": [],
   "source": [
    "import torch\n",
    "from torchvision.datasets import FashionMNIST\n",
    "from torch.utils.data import DataLoader\n",
    "from diffusion_score import *"
   ]
  },
  {
   "cell_type": "markdown",
   "id": "5f74ee47",
   "metadata": {},
   "source": [
    "## Read in datasets"
   ]
  },
  {
   "cell_type": "code",
   "execution_count": 2,
   "id": "5defe42f",
   "metadata": {},
   "outputs": [],
   "source": [
    "transforms = Compose([\n",
    "    Resize(32),\n",
    "    ToTensor(),\n",
    "    Lambda(lambda x:2*x-1)\n",
    "])\n",
    "\n",
    "train_dataset = FashionMNIST(\"fashion_mnist\",  train=True, download=True, transform=transforms)\n",
    "train_dataloader = DataLoader(train_dataset, batch_size=128, shuffle=True, num_workers=2, pin_memory=True)\n",
    "\n",
    "test_dataset = FashionMNIST(\"fashion_mnist\",  train=False, download=True, transform=transforms)\n",
    "test_dataloader = DataLoader(test_dataset, batch_size=128, shuffle=True, num_workers=2, pin_memory=True)"
   ]
  },
  {
   "cell_type": "markdown",
   "id": "efef5653",
   "metadata": {},
   "source": [
    "## Train and save classifier"
   ]
  },
  {
   "cell_type": "code",
   "execution_count": 3,
   "id": "3cbe6977",
   "metadata": {
    "scrolled": true
   },
   "outputs": [
    {
     "name": "stdout",
     "output_type": "stream",
     "text": [
      "Start training 1/100\n"
     ]
    },
    {
     "name": "stderr",
     "output_type": "stream",
     "text": [
      "  0%|                                                                                           | 0/469 [00:00<?, ?it/s]/home/pieter/miniconda3/envs/pt/lib/python3.9/site-packages/torch/nn/modules/conv.py:459: UserWarning: Applied workaround for CuDNN issue, install nvrtc.so (Triggered internally at ../aten/src/ATen/native/cudnn/Conv_v8.cpp:80.)\n",
      "  return F.conv2d(input, weight, bias, self.stride,\n",
      "100%|████████████████████████████████████████████████████████████████████████████████| 469/469 [00:02<00:00, 202.58it/s]\n"
     ]
    },
    {
     "name": "stdout",
     "output_type": "stream",
     "text": [
      "Epoch 1/100 - training loss: 0.3756 - Accuracy: 0.8937000036239624 - 0m 2.690687s\n",
      "Start training 2/100\n"
     ]
    },
    {
     "name": "stderr",
     "output_type": "stream",
     "text": [
      "100%|████████████████████████████████████████████████████████████████████████████████| 469/469 [00:02<00:00, 219.32it/s]\n"
     ]
    },
    {
     "name": "stdout",
     "output_type": "stream",
     "text": [
      "Epoch 2/100 - training loss: 0.2348 - Accuracy: 0.8963000178337097 - 0m 2.496536s\n",
      "Start training 3/100\n"
     ]
    },
    {
     "name": "stderr",
     "output_type": "stream",
     "text": [
      "100%|████████████████████████████████████████████████████████████████████████████████| 469/469 [00:02<00:00, 226.52it/s]\n"
     ]
    },
    {
     "name": "stdout",
     "output_type": "stream",
     "text": [
      "Epoch 3/100 - training loss: 0.1868 - Accuracy: 0.9124000072479248 - 0m 2.409895s\n",
      "Start training 4/100\n"
     ]
    },
    {
     "name": "stderr",
     "output_type": "stream",
     "text": [
      "100%|████████████████████████████████████████████████████████████████████████████████| 469/469 [00:02<00:00, 212.88it/s]\n"
     ]
    },
    {
     "name": "stdout",
     "output_type": "stream",
     "text": [
      "Epoch 4/100 - training loss: 0.1473 - Accuracy: 0.9117000102996826 - 0m 2.573133s\n",
      "Start training 5/100\n"
     ]
    },
    {
     "name": "stderr",
     "output_type": "stream",
     "text": [
      "100%|████████████████████████████████████████████████████████████████████████████████| 469/469 [00:02<00:00, 211.76it/s]\n"
     ]
    },
    {
     "name": "stdout",
     "output_type": "stream",
     "text": [
      "Epoch 5/100 - training loss: 0.1176 - Accuracy: 0.9120000004768372 - 0m 2.565457s\n",
      "Start training 6/100\n"
     ]
    },
    {
     "name": "stderr",
     "output_type": "stream",
     "text": [
      "100%|████████████████████████████████████████████████████████████████████████████████| 469/469 [00:02<00:00, 215.45it/s]\n"
     ]
    },
    {
     "name": "stdout",
     "output_type": "stream",
     "text": [
      "Epoch 6/100 - training loss: 0.0894 - Accuracy: 0.9153000116348267 - 0m 2.537372s\n",
      "Start training 7/100\n"
     ]
    },
    {
     "name": "stderr",
     "output_type": "stream",
     "text": [
      "100%|████████████████████████████████████████████████████████████████████████████████| 469/469 [00:02<00:00, 214.47it/s]\n"
     ]
    },
    {
     "name": "stdout",
     "output_type": "stream",
     "text": [
      "Epoch 7/100 - training loss: 0.0659 - Accuracy: 0.9154000282287598 - 0m 2.565667s\n",
      "Start training 8/100\n"
     ]
    },
    {
     "name": "stderr",
     "output_type": "stream",
     "text": [
      "100%|████████████████████████████████████████████████████████████████████████████████| 469/469 [00:02<00:00, 194.50it/s]\n"
     ]
    },
    {
     "name": "stdout",
     "output_type": "stream",
     "text": [
      "Epoch 8/100 - training loss: 0.0493 - Accuracy: 0.916700005531311 - 0m 2.752192s\n",
      "Start training 9/100\n"
     ]
    },
    {
     "name": "stderr",
     "output_type": "stream",
     "text": [
      "100%|████████████████████████████████████████████████████████████████████████████████| 469/469 [00:02<00:00, 222.99it/s]\n"
     ]
    },
    {
     "name": "stdout",
     "output_type": "stream",
     "text": [
      "Epoch 9/100 - training loss: 0.0340 - Accuracy: 0.9140999913215637 - 0m 2.446674s\n",
      "Start training 10/100\n"
     ]
    },
    {
     "name": "stderr",
     "output_type": "stream",
     "text": [
      "100%|████████████████████████████████████████████████████████████████████████████████| 469/469 [00:02<00:00, 220.39it/s]\n"
     ]
    },
    {
     "name": "stdout",
     "output_type": "stream",
     "text": [
      "Epoch 10/100 - training loss: 0.0246 - Accuracy: 0.9186999797821045 - 0m 2.495135s\n",
      "Start training 11/100\n"
     ]
    },
    {
     "name": "stderr",
     "output_type": "stream",
     "text": [
      "100%|████████████████████████████████████████████████████████████████████████████████| 469/469 [00:02<00:00, 215.86it/s]\n"
     ]
    },
    {
     "name": "stdout",
     "output_type": "stream",
     "text": [
      "Epoch 11/100 - training loss: 0.0201 - Accuracy: 0.9128000140190125 - 0m 2.515111s\n",
      "Start training 12/100\n"
     ]
    },
    {
     "name": "stderr",
     "output_type": "stream",
     "text": [
      "100%|████████████████████████████████████████████████████████████████████████████████| 469/469 [00:02<00:00, 220.11it/s]\n"
     ]
    },
    {
     "name": "stdout",
     "output_type": "stream",
     "text": [
      "Epoch 12/100 - training loss: 0.0170 - Accuracy: 0.9136000275611877 - 0m 2.486109s\n",
      "Start training 13/100\n"
     ]
    },
    {
     "name": "stderr",
     "output_type": "stream",
     "text": [
      "100%|████████████████████████████████████████████████████████████████████████████████| 469/469 [00:02<00:00, 214.09it/s]\n"
     ]
    },
    {
     "name": "stdout",
     "output_type": "stream",
     "text": [
      "Epoch 13/100 - training loss: 0.0144 - Accuracy: 0.9187999963760376 - 0m 2.547503s\n",
      "Start training 14/100\n"
     ]
    },
    {
     "name": "stderr",
     "output_type": "stream",
     "text": [
      "100%|████████████████████████████████████████████████████████████████████████████████| 469/469 [00:02<00:00, 225.86it/s]\n"
     ]
    },
    {
     "name": "stdout",
     "output_type": "stream",
     "text": [
      "Epoch 14/100 - training loss: 0.0171 - Accuracy: 0.9136000275611877 - 0m 2.418829s\n"
     ]
    }
   ],
   "source": [
    "classifier = fashionMNIST_CNN(img_size=32, n_layers=4, start_channels=32)\n",
    "optimizer = torch.optim.Adam(classifier.parameters(), lr=3e-4)\n",
    "classifier = train_classifier(train_dataloader, test_dataloader, classifier, optimizer, epochs=100, device='cuda', verbose=1, early_stop_patience=10)\n",
    "\n",
    "torch.save(classifier.state_dict(), 'fashion_mnist_classifier.pt')"
   ]
  },
  {
   "cell_type": "markdown",
   "id": "0b9211c4",
   "metadata": {},
   "source": [
    "## Test the saved classifier"
   ]
  },
  {
   "cell_type": "code",
   "execution_count": 4,
   "id": "737c10dc",
   "metadata": {},
   "outputs": [
    {
     "data": {
      "text/plain": [
       "<All keys matched successfully>"
      ]
     },
     "execution_count": 4,
     "metadata": {},
     "output_type": "execute_result"
    }
   ],
   "source": [
    "classifier = fashionMNIST_CNN(img_size=32, n_layers=4, start_channels=32)\n",
    "classifier.load_state_dict(torch.load('fashion_mnist_classifier.pt'))"
   ]
  },
  {
   "cell_type": "code",
   "execution_count": 5,
   "id": "2fcbcec2",
   "metadata": {},
   "outputs": [
    {
     "data": {
      "text/plain": [
       "0.9124000072479248"
      ]
     },
     "execution_count": 5,
     "metadata": {},
     "output_type": "execute_result"
    }
   ],
   "source": [
    "pred, truth = evaluate_classifier(test_dataloader, classifier, 'cuda')\n",
    "(torch.sum(torch.argmax(nn.functional.softmax(torch.cat(pred, dim=0), dim=-1), dim=-1)==torch.cat(truth, dim=0))/len(torch.cat(truth, dim=0))).item()"
   ]
  },
  {
   "cell_type": "markdown",
   "id": "dcb73ccd",
   "metadata": {},
   "source": [
    "## Calculate the scores on the test dataset"
   ]
  },
  {
   "cell_type": "markdown",
   "id": "32b92f4a",
   "metadata": {},
   "source": [
    "### Inception score"
   ]
  },
  {
   "cell_type": "code",
   "execution_count": 6,
   "id": "a7e41570",
   "metadata": {},
   "outputs": [
    {
     "data": {
      "text/plain": [
       "8.038381"
      ]
     },
     "execution_count": 6,
     "metadata": {},
     "output_type": "execute_result"
    }
   ],
   "source": [
    "inception_score(test_dataloader, classifier, splits=1, contains_labels=True)"
   ]
  },
  {
   "cell_type": "markdown",
   "id": "a9c48fc3",
   "metadata": {},
   "source": [
    "### FID score"
   ]
  },
  {
   "cell_type": "code",
   "execution_count": 7,
   "id": "3b6556b2",
   "metadata": {},
   "outputs": [
    {
     "data": {
      "text/plain": [
       "0.016007007368596185"
      ]
     },
     "execution_count": 7,
     "metadata": {},
     "output_type": "execute_result"
    }
   ],
   "source": [
    "train = get_feature_vectors(train_dataloader, classifier, contains_labels=True, device='cuda')\n",
    "test = get_feature_vectors(test_dataloader, classifier, contains_labels=True, device='cuda')\n",
    "calculate_fid(train, test)"
   ]
  },
  {
   "cell_type": "code",
   "execution_count": null,
   "id": "2b29c2bd",
   "metadata": {},
   "outputs": [],
   "source": []
  },
  {
   "cell_type": "code",
   "execution_count": null,
   "id": "387faa81",
   "metadata": {},
   "outputs": [],
   "source": []
  },
  {
   "cell_type": "code",
   "execution_count": null,
   "id": "f9b7e6dc",
   "metadata": {},
   "outputs": [],
   "source": []
  },
  {
   "cell_type": "code",
   "execution_count": null,
   "id": "0c6eb2b8",
   "metadata": {},
   "outputs": [],
   "source": []
  },
  {
   "cell_type": "code",
   "execution_count": null,
   "id": "9fa1339e",
   "metadata": {},
   "outputs": [],
   "source": []
  },
  {
   "cell_type": "code",
   "execution_count": null,
   "id": "ec3c9694",
   "metadata": {},
   "outputs": [],
   "source": []
  },
  {
   "cell_type": "code",
   "execution_count": null,
   "id": "548fb9ed",
   "metadata": {},
   "outputs": [],
   "source": []
  },
  {
   "cell_type": "code",
   "execution_count": null,
   "id": "77585b75",
   "metadata": {},
   "outputs": [],
   "source": []
  },
  {
   "cell_type": "code",
   "execution_count": null,
   "id": "5d0d3bfd",
   "metadata": {},
   "outputs": [],
   "source": []
  },
  {
   "cell_type": "code",
   "execution_count": null,
   "id": "5ccc8585",
   "metadata": {},
   "outputs": [],
   "source": []
  },
  {
   "cell_type": "code",
   "execution_count": null,
   "id": "f146e500",
   "metadata": {},
   "outputs": [],
   "source": []
  },
  {
   "cell_type": "code",
   "execution_count": null,
   "id": "929556b3",
   "metadata": {},
   "outputs": [],
   "source": []
  },
  {
   "cell_type": "code",
   "execution_count": null,
   "id": "da02273d",
   "metadata": {},
   "outputs": [],
   "source": []
  },
  {
   "cell_type": "code",
   "execution_count": null,
   "id": "ede5dd10",
   "metadata": {},
   "outputs": [],
   "source": []
  },
  {
   "cell_type": "code",
   "execution_count": null,
   "id": "20ea0053",
   "metadata": {},
   "outputs": [],
   "source": []
  }
 ],
 "metadata": {
  "kernelspec": {
   "display_name": "pt",
   "language": "python",
   "name": "pt"
  },
  "language_info": {
   "codemirror_mode": {
    "name": "ipython",
    "version": 3
   },
   "file_extension": ".py",
   "mimetype": "text/x-python",
   "name": "python",
   "nbconvert_exporter": "python",
   "pygments_lexer": "ipython3",
   "version": "3.9.16"
  }
 },
 "nbformat": 4,
 "nbformat_minor": 5
}
